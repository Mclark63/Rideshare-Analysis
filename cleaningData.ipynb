{
 "cells": [
  {
   "cell_type": "code",
   "execution_count": null,
   "id": "d8797159",
   "metadata": {},
   "outputs": [],
   "source": [
    "import pandas as pd\n",
    "import numpy as np\n",
    "import datetime"
   ]
  },
  {
   "cell_type": "code",
   "execution_count": null,
   "id": "7df48d64",
   "metadata": {},
   "outputs": [],
   "source": [
    "# data_df = pd.read_csv(\"../rideshare_kaggle.csv\")\n",
    "\n",
    "\n",
    "cleanData_df = data_df[[\"id\",\"hour\",'day', 'month',\"datetime\",\"source\",\"destination\",\"cab_type\",\"price\",\"distance\",\"surge_multiplier\",\"latitude\",\"longitude\",\"temperature\",\"short_summary\",\"windSpeed\"]]\n",
    "\n",
    "total_df = data_df[[\"id\",\"hour\",'day', 'month',\"datetime\",\"source\",\"destination\",\"cab_type\",\"price\",\"distance\",\"surge_multiplier\",\"latitude\",\"longitude\",\"temperature\",\"short_summary\",\"windSpeed\"]]\n",
    "\n",
    "cleanData_df\n",
    " "
   ]
  },
  {
   "cell_type": "code",
   "execution_count": null,
   "id": "18f5f7a4",
   "metadata": {},
   "outputs": [],
   "source": [
    "cleanData_df.isnull().count()"
   ]
  },
  {
   "cell_type": "code",
   "execution_count": null,
   "id": "c0612243",
   "metadata": {},
   "outputs": [],
   "source": [
    "cleanData_df.isnull().sum()"
   ]
  },
  {
   "cell_type": "code",
   "execution_count": null,
   "id": "af4e3852",
   "metadata": {},
   "outputs": [],
   "source": [
    "cleanData_df = cleanData_df.dropna(how = 'any')\n",
    "cleanData_df"
   ]
  },
  {
   "cell_type": "code",
   "execution_count": null,
   "id": "9d3c1e93",
   "metadata": {},
   "outputs": [],
   "source": [
    "cleanData_df.isnull().sum()"
   ]
  },
  {
   "cell_type": "code",
   "execution_count": null,
   "id": "3031b5ae",
   "metadata": {},
   "outputs": [],
   "source": [
    "cleanData_df.dtypes"
   ]
  },
  {
   "cell_type": "code",
   "execution_count": null,
   "id": "ef1d5054",
   "metadata": {},
   "outputs": [],
   "source": [
    "# cleanData_df.columns\n",
    "data_df.columns"
   ]
  },
  {
   "cell_type": "code",
   "execution_count": null,
   "id": "0286c8d0",
   "metadata": {},
   "outputs": [],
   "source": [
    "total_df.groupby(['cab_type']).count()"
   ]
  },
  {
   "cell_type": "code",
   "execution_count": null,
   "id": "0cbf95ad",
   "metadata": {},
   "outputs": [],
   "source": [
    "tframe_bins = [0,4.9,11.9, 16.9, 22.9, 24]\n",
    "\n",
    "tframe_lables = ['Late Night', 'Morning', 'Afternoon', 'Evening', 'Late Night 2']\n",
    "\n",
    "\n",
    "\n",
    "total_df['time_of_day'] = pd.cut(total_df['hour'], tframe_bins , labels = tframe_lables, include_lowest=True)\n",
    "\n",
    "total_df.loc[total_df['time_of_day'] == 'Late Night 2', 'time_of_day'] = 'Late Night'\n"
   ]
  },
  {
   "cell_type": "code",
   "execution_count": null,
   "id": "f25bfe94",
   "metadata": {},
   "outputs": [],
   "source": [
    "total_df['cab_type'].value_counts()"
   ]
  },
  {
   "cell_type": "code",
   "execution_count": null,
   "id": "d955765c",
   "metadata": {},
   "outputs": [],
   "source": [
    "total_df = total_df.rename(columns={'source': 'origin', 'short_summary':'weather', 'windSpeed':'windspeed'})\n",
    "total_df"
   ]
  },
  {
   "cell_type": "code",
   "execution_count": null,
   "id": "36d1423d",
   "metadata": {},
   "outputs": [],
   "source": [
    "total_df.groupby(['origin']).count()\n"
   ]
  },
  {
   "cell_type": "code",
   "execution_count": null,
   "id": "327268d3",
   "metadata": {},
   "outputs": [],
   "source": [
    "#University = Boston University, Northeastern University\n",
    "total_df['university'] = total_df.loc[total_df['origin']\n",
    "                                     ]"
   ]
  }
 ],
 "metadata": {
  "kernelspec": {
   "display_name": "Python 3 (ipykernel)",
   "language": "python",
   "name": "python3"
  },
  "language_info": {
   "codemirror_mode": {
    "name": "ipython",
    "version": 3
   },
   "file_extension": ".py",
   "mimetype": "text/x-python",
   "name": "python",
   "nbconvert_exporter": "python",
   "pygments_lexer": "ipython3",
   "version": "3.9.11"
  }
 },
 "nbformat": 4,
 "nbformat_minor": 5
}
